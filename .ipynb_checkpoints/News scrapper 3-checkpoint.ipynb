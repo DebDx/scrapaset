{
 "cells": [
  {
   "cell_type": "code",
   "execution_count": 1,
   "metadata": {},
   "outputs": [],
   "source": [
    "import requests\n",
    "from bs4 import BeautifulSoup\n",
    "import numpy as np\n",
    "import pandas as pd\n",
    "import time"
   ]
  },
  {
   "cell_type": "code",
   "execution_count": 2,
   "metadata": {},
   "outputs": [],
   "source": [
    "url = \"https://www.mirror.co.uk/\""
   ]
  },
  {
   "cell_type": "code",
   "execution_count": 3,
   "metadata": {},
   "outputs": [
    {
     "name": "stdout",
     "output_type": "stream",
     "text": [
      "200\n"
     ]
    },
    {
     "data": {
      "text/plain": [
       "19"
      ]
     },
     "execution_count": 3,
     "metadata": {},
     "output_type": "execute_result"
    }
   ],
   "source": [
    "r1 = requests.get(url)\n",
    "print(r1.status_code)\n",
    "\n",
    "\n",
    "coverpage = r1.content\n",
    "\n",
    "\n",
    "soup1 = BeautifulSoup(coverpage, 'html5lib')\n",
    "\n",
    "\n",
    "coverpage_news = soup1.find_all('a', class_='headline publication-font')\n",
    "len(coverpage_news)"
   ]
  },
  {
   "cell_type": "code",
   "execution_count": 4,
   "metadata": {},
   "outputs": [
    {
     "data": {
      "text/plain": [
       "<a class=\"headline publication-font\" data-link-tracking=\"\" href=\"https://www.mirror.co.uk/news/uk-news/coronavirus-advice-live-uk-lockdown-21757656\">UK death toll LEAPS by 393 more killed by coronavirus to 1,808 in record surge - as Boris warns Cabinet: \"Things will get worse before they get better\"</a>"
      ]
     },
     "execution_count": 4,
     "metadata": {},
     "output_type": "execute_result"
    }
   ],
   "source": [
    "\n",
    "coverpage_news[0]"
   ]
  },
  {
   "cell_type": "code",
   "execution_count": 5,
   "metadata": {},
   "outputs": [],
   "source": [
    "\n",
    "n=0\n",
    "link = coverpage_news[n]['href']\n",
    "title = coverpage_news[n].get_text()\n",
    "article = requests.get(link)\n",
    "article_content = article.content\n",
    "soup_article = BeautifulSoup(article_content, 'html5lib')"
   ]
  },
  {
   "cell_type": "code",
   "execution_count": 6,
   "metadata": {},
   "outputs": [
    {
     "data": {
      "text/plain": [
       "'UK death toll LEAPS by 393 more killed by coronavirus to 1,808 in record surge - as Boris warns Cabinet: \"Things will get worse before they get better\"'"
      ]
     },
     "execution_count": 6,
     "metadata": {},
     "output_type": "execute_result"
    }
   ],
   "source": [
    "title"
   ]
  },
  {
   "cell_type": "code",
   "execution_count": 7,
   "metadata": {},
   "outputs": [],
   "source": [
    "body = soup_article.find_all('p')"
   ]
  },
  {
   "cell_type": "code",
   "execution_count": 8,
   "metadata": {},
   "outputs": [
    {
     "data": {
      "text/plain": [
       "[<p class=\"sub-title\">A further 367 patients have died in England, Public Health England confirmed, while 13 more people have died of Covid-19 in Scotland, and seven more lost their lives in Wales</p>,\n",
       " <p>The death toll by coronavirus in the UK has soared by 393 to 1,808, the latest official figures have shown. </p>,\n",
       " <p>A further 367 patients have died in England, the death toll in Scotland has reached 60 and there are seven new victims in Wales, taking the death toll to 69.</p>,\n",
       " <p>The UK's total coronavirus death toll is higher than previously announced, new data from the Office for National Statistics (ONS) has shown this morning.</p>,\n",
       " <p>The new data now includes those who died outside hospitals, including those who passed away in their own homes and care homes.</p>,\n",
       " <p>This information comes after a counter terrorism chief warned police about being \"over zealous\" as they <a data-content-type=\"news\" data-link-tracking=\"InArticle|Link\" href=\"https://www.mirror.co.uk/news/uk-news/counter-terror-chief-warns-police-21783924\">enforce new lockdown rules.</a></p>,\n",
       " <p>Transport Minister Grant Shapps said there may be examples where police had gone further than they should, but force bosses have denied that Britain is becoming a \"police state\".</p>,\n",
       " <p>We are building a map of appreciation for the NHS heroes looking after us through the coronavirus crisis. Place your heart on our live updating map at <a href=\"https://bit.ly/2UuBVVp\" rel=\"nofollow\">www.thanksamillionnhs.co.uk</a>.</p>,\n",
       " <p>Add your partial postcode (eg: CF5 1) to put a heart on the map and you can add a thank you message too.</p>,\n",
       " <p>If you're an NHS worker, you'll also find a <a href=\"https://thanksamillionnhs.co.uk/discounts.html\" rel=\"nofollow\">handy list of all the places and brands currently offering you well-deserved discounts.</a></p>,\n",
       " <p>Share the page to encourage others to show their support!</p>,\n",
       " <p><strong>Do you have a coronavirus story? Email <a href=\"mailto:webnews@mirror.co.uk\">webnews@mirror.co.uk</a></strong></p>,\n",
       " <p><em><strong>Follow our live blog for the latest updates on today's developments and the coronavirus pandemic...</strong></em></p>,\n",
       " <p>Michael Gove said that while the rate of coronavirus testing in the UK has increased, the UK must go further and faster. </p>,\n",
       " <p>The Chancellor of the Duchy of Lancaster told the Downing Street press conference: “More NHS staff are returning to the frontline, and more testing is taking place to help those self-isolating come back, and to protect those working so hard in our hospitals and in social care. </p>,\n",
       " <p>“But while the rate of testing is increasing, we must go further, faster.” </p>,\n",
       " <p>He said a “critical constraint” on the ability to rapidly increase testing capacity is the availability of the chemical reagents, but that Boris Johnson and Matt Hancock were working with companies worldwide to ensure the UK gets the material needed to increase tests “of all kind”.<br/></p>,\n",
       " <p>Hugh Pym from the BBC is first up.</p>,\n",
       " <p>Number of infections not rising as rapidly as it was - Stephen Powis.</p>,\n",
       " <p>We’re not out of the woods, but these are green shoots.</p>,\n",
       " <p>We need to keep our foot on the pedal.</p>,\n",
       " <p>This is not a short haul - this is going to take time. It is important that we all stick with it. Everybody.</p>,\n",
       " <p>He also added that a third of hospital admissions are in London.</p>,\n",
       " <p>He said: </p>,\n",
       " <p>This weekend the first of thousands of new ventilator devices will roll off the production line and be delivered to the NHS next week.</p>,\n",
       " <p>Cabinet Office Minister Michael Gove said “we must go further, faster” to increase the ability to carry out coronavirus tests.<br/></p>,\n",
       " <p>He has also said the latest coronavirus statistics reinforce the need to follow Government social distancing advice.<br/></p>,\n",
       " <p>Dr Jenny Harries, Deputy Chief Medical Officer for England, and NHS England medical director Professor Stephen Powis are with him.</p>,\n",
       " <p>Gove is beginning by reiterating the latest figures which we have already brought you.</p>,\n",
       " <p>Michael Gove is due to lead today’s press conference. </p>,\n",
       " <p>We’re expecting in to begin in around two minutes.</p>,\n",
       " <p>Stay tuned for updates.</p>,\n",
       " <p>The death toll in the United States has now exceeded that of China where Covid-19 first broke out.</p>,\n",
       " <p>The latest death toll released today has hit 3,393 today,</p>,\n",
       " <p>This is the third highest in the world behind Italy and Spain.</p>,\n",
       " <p>In New York State alone, deaths today increased to 1,550 from 1,218 a day earlier.</p>,\n",
       " <p>Health officials urged Americans to follow stay-at-home orders and other measures to contain the spread of the virus, which originated in China in December. </p>,\n",
       " <p>Globally, there are now over 800,000 cases of the highly contagious illness caused by the virus and more than 39,000 deaths reported. </p>,\n",
       " <p>Italy has 11,591 reported deaths followed by Spain at 8,189.</p>,\n",
       " <p>A 19-year-old has become the youngest person in the UK to die of coronavirus despite having no underlying health conditions.</p>,\n",
       " <p>The teenager was among 28 patients to have been killed despite having no pre-existing health problems.</p>,\n",
       " <p>Their death was announced by NHS England this afternoon as the death toll for the UK hit 1,808.</p>,\n",
       " <p><b>Read <a class=\"\" href=\"https://www.mirror.co.uk/news/uk-news/coronavirus-new-uk-deaths-include-21787826\">the full story</a></b></p>,\n",
       " <p>The government has changed the rules surrounding abortion so that medical abortion can all be carried out at home and without the need to travel to a clinic.</p>,\n",
       " <p>Medical abortion involves taking two sets of pills - mifepristone and misoprostol - to end a pregnancy in the early stages, but previously women have been required to visit a clinic in person to access the procedure.</p>,\n",
       " <p>New home use rules will protect women by cutting down on unnecessary travel during the coronavirus pandemic but it will also protect the doctors and midwives who can also carry out the work from home.</p>,\n",
       " <p>Charities had been worried that women who want an abortion but have underlying health conditions would put themselves at risk to have the procedure or turn to dangerous alternatives.</p>,\n",
       " <p><b>Read <a class=\"\" href=\"https://www.mirror.co.uk/news/politics/new-coronavirus-lockdown-rules-you-21786635\">the full story</a></b></p>,\n",
       " <p>Almost two thirds of the population will not feel comfortable making future plans until the winter or even beyond that, a survey has found.</p>,\n",
       " <p>The results indicated people in the UK have accepted the coronavirus restrictions will be in place for some time, research company Toluna said.</p>,\n",
       " <p>A survey of 1,276 people conducted last week found that 83% rated the NHS among the most supportive institutions, followed by the Government on 66% and retailers on 52%.</p>,\n",
       " <p>It found 64% of UK respondents will not feel comfortable making future plans until winter 2020/21 or beyond, compared with 48% feeling happy about making plans by autumn.</p>,\n",
       " <p>Just 13% of respondents found banks had been supportive and only 30% found utility companies had been helpful.</p>,\n",
       " <p>Two men charged with breaking into a nurse’s home while she treated patients with coronavirus have appeared in court.</p>,\n",
       " <p>Jamie Roy Marriott, 30, of Stooperdale Avenue, and Scott David Colling, 28, of Tansley Gardens, both Darlington, appeared at Newton Aycliffe Magistrates’</p>,\n",
       " <p>Court by video link on Tuesday, Durham Police said.</p>,\n",
       " <p>They admitted two charges of theft from a motor vehicle and pleaded not guilty to a charge of burglary.</p>,\n",
       " <p>They were remanded into custody to appear at Teesside Crown Court on April 26.</p>,\n",
       " <p>The jump in coronavirus-related deaths revealed today is by far the biggest day-on-day rise in the number of deaths since the outbreak began.</p>,\n",
       " <p>It means the total number of deaths is 27% higher than the equivalent figure yesterday.</p>,\n",
       " <p>The day-on-day increase in the number of deaths reported on Monday was 15%, on Sunday 21% and on Saturday 34%.</p>,\n",
       " <p>Meanwhile, the number of people tested in the UK for coronavirus has now passed 140,000.</p>,\n",
       " <p>The total as of 9am on March 31 was 143,186.</p>,\n",
       " <p>On average around 7,500 new people were tested a day in the seven days up to March 31.</p>,\n",
       " <p>In the previous seven days the daily average was around 5,700.</p>,\n",
       " <p>The total number of confirmed cases of coronavirus in the UK now stands at 25,150, as of 9am March 31.</p>,\n",
       " <p>One week ago, on March 24, the total stood at 8,077.</p>,\n",
       " <p>Jeremy Corbyn has demanded extra protective equipment and coronavirus testing for NHS staff and an extension of lockdown measures to curb the spread of the virus. </p>,\n",
       " <p>In a letter to Boris Johnson, the outgoing Labour leader said social care provision should be expanded and personal protective equipment (PPE) should be issued to workers in care homes and domestic settings. </p>,\n",
       " <p>Mr Corbyn also urged the Prime Minister to order non-essential construction sites, factories and warehouses to shut down. </p>,\n",
       " <p>The Labour leader said: “The phenomenal public outpouring of support for our NHS workers needs to be matched by government action. </p>,\n",
       " <p>“Why are so many frontline NHS staff still waiting for personal protective equipment?”</p>,\n",
       " <p>The death toll from an outbreak of coronavirus in the northern region of Lombardy, the epicentre of Italy’s contagion, has risen by around 381 in a day to some 7,199, a source familiar with the data said on Tuesday. </p>,\n",
       " <p>The daily deaths were down sharply from Monday’s tally of 458 and marked the lowest daily toll since March 25. </p>,\n",
       " <p>The number of cases in the region, which includes the country’s financial capital Milan, increased by some 1,047 to around 43,208, the source said. </p>,\n",
       " <p>The increase in cases was also smaller than the 1,154 registered on Monday and 1,592 on Sunday. </p>,\n",
       " <p>The nationwide tallies will be released at around 6.00 p.m. (1600 GMT). </p>,\n",
       " <p>On Monday, the national death toll stood at 11,591, the highest in the world.<br/></p>,\n",
       " <p>A total of 143,186 people have been tested in the UK, of which 25,150 tested positive.<br/></p>,\n",
       " <p>The latest figures come from the Department of Health and Social Care. </p>,\n",
       " <p>A yob has been jailed after he smashed up and tried to steal from cars belonging to heroic NHS staff working “flat out” at a hospital against <a class=\"\" href=\"https://www.mirror.co.uk/all-about/coronavirus-1\">coronavirus</a>.</p>,\n",
       " <p>Cleveland Police said Callum Wood, 31, was caught at Middlesbrough’s James Cook University Hospital on Sunday.</p>,\n",
       " <p>A health care assistant had finished a 12-hour shift at the Marton Road hospital to find her back windscreen shattered.</p>,\n",
       " <p>Others discovered similar scenes after “risking their lives” treating other patients, reports <a class=\"\" href=\"https://www.gazettelive.co.uk/news/teesside-news/yob-jailed-smashing-up-nhs-18012522\">Teesside Live</a>.</p>,\n",
       " <p>To read our full story on this, click <a class=\"\" href=\"https://www.mirror.co.uk/news/uk-news/coronavirus-thug-jailed-smashing-up-21787128\">here. </a></p>,\n",
       " <p>Paris health officials will begin transferring 38 critical coronavirus patients by high-speed train to regions that have been less overwhelmed.</p>,\n",
       " <p>The move aims to ease pressure on the capital’s intensive care capacity, officials said today. </p>,\n",
       " <p>“What is planned from the Paris region by TGV transport is (to transport) 38 sick people”, Bruno Riou, who heads up the crisis team for the Paris hospitals, told reporters. </p>,\n",
       " <p>He declined to say where they would be transferred. </p>,\n",
       " <p>A second official said the operation would take place on Wednesday. </p>,\n",
       " <p>France 3 TV reported the patients would be moved to the western Brittany region.<br/></p>,\n",
       " <p>Wales’ health minister has spoken of his disappointment after a deal to provide an extra 5,000 coronavirus tests per day collapsed. </p>,\n",
       " <p>Vaughan Gething said there had been a written agreement for the firm, who he refused to name, to increase testing capacity in the nation. </p>,\n",
       " <p>He told a press conference in Cardiff that there was “no getting away from the fact that those additional tests that we were due to have would have made an earlier difference for us”. </p>,\n",
       " <p>Mr Gething said the Welsh Government was working now with other private organisations, the university sector and the NHS to increase the current testing capacity. </p>,\n",
       " <p>Within two to three weeks, this should increase to 5,000 tests per day and there will be a further 4,000 tests by the end of May due to UK-wise arrangements, he said.</p>,\n",
       " <p>Emergency powers allowing ministers to release prisoners from jail early during the coronavirus outbreak will only be used as a “last resort”, First Minister Nicola Sturgeon has said. </p>,\n",
       " <p>The Coronavirus (Scotland) Bill, which is being rushed through Holyrood on Wednesday, will allow for inmates to be freed before the end of their sentence. </p>,\n",
       " <p>Papers submitted to Holyrood alongside the legislation said this could take place if it is deemed to be a “necessary and proportionate response to the effects of coronavirus on a prison or prisons”. </p>,\n",
       " <p>In addition, the Bill allows for trials to go ahead without juries to “ensure that criminal justice systems can continue to operate during the coronavirus restrictions”.</p>,\n",
       " <p>Norwegian Prime Minister Erna Solberg said on Tuesday there were some signs that the trend for hospitalisations due to coronavirus infections was going in the right direction, but that it was too early to tell. </p>,\n",
       " <p>She also told a news conference the government was ordering some 1,000 respirators made by Norwegian companies and that Oslo could provide to other countries equipment essential in the treatment of patients who need help breathing.<br/></p>,\n",
       " <p>Jeremy Corbyn has said he is still going into Parliament despite being 70.</p>,\n",
       " <p>Asked how he is adapting to working from home by the BBC’s Jeremy Vine, Mr Corbyn replied: “I’m actually in my office in Parliament at the present time and it is a very strange building because there’s hardly anybody here and everybody’s practising social distancing.”</p>,\n",
       " <p>Mr Corbyn explained that he was continuing to go in because “parliament must be able to operate in some form”.</p>,\n",
       " <p>To read this story in full, click <a class=\"\" href=\"https://www.mirror.co.uk/news/politics/jeremy-corbyn-says-still-working-21787329\">here. </a></p>,\n",
       " <p>The number of UK coronavirus deaths has risen to 1,808, officials have confirmed.</p>,\n",
       " <p>Today’s figures include people who died in hospitals, but do not those who passed away in their homes.</p>,\n",
       " <p>Yesterday the number of deaths stood at 1,415.</p>,\n",
       " <p>The tragic update comes hours after <a class=\"\" href=\"https://www.mirror.co.uk/news/uk-news/breaking-coronavirus-death-toll-uk-21784524\">new figures revealed an additional 40 deaths</a> which had previously not been included in the country’s death toll.</p>,\n",
       " <p>A further 367 patients have died in England, Public Health England confirmed.</p>,\n",
       " <p>Read our full breaking story <a class=\"\" href=\"https://www.mirror.co.uk/news/uk-news/breaking-coronavirus-uk-death-toll-21786663\">here.</a></p>,\n",
       " <p>Boris Johnson is expected to leave self-isolation on Friday, despite pleas from doctor and <a class=\"\" href=\"https://www.mirror.co.uk/all-about/labour-party\">Labour</a> MP Rosena Allin-Khan to stay away from people for another seven days.</p>,\n",
       " <p>The Prime Minister’s spokesman confirmed that Mr Johnson intends to leave isolation in No 11 Downing St at the end of the week, after testing positive for Covid-19 last Thursday night.</p>,\n",
       " <p>Mr Johnson’s spokesman today said he had mild symptoms and “that remains the case”.</p>,\n",
       " <p>The spokesman added: “Obviously we’re following the guidelines which say you need to self isolate for 7 days.”</p>,\n",
       " <p>Dr Allin-Khan, said on Sunday that the PM should double his isolation to 14 days in line with World Health Organisation guidance.</p>,\n",
       " <p>But the current UK guidance says people with symptoms should isolate for seven days, or 14 days for entire households.<br/></p>,\n",
       " <p>Click <a class=\"\" href=\"https://www.mirror.co.uk/news/politics/boris-johnson-come-out-coronavirus-21787195\">here </a>for more on this. </p>,\n",
       " <p>Peter Andre has opened up about being forced to keep his entire family in isolation after son Junior came down with <a class=\"\" href=\"https://www.mirror.co.uk/all-about/coronavirus-1\">coronavirus</a> symptoms.</p>,\n",
       " <p>Last week Junior, 14, told his <a class=\"\" href=\"https://www.mirror.co.uk/all-about/instagram\">Instagram</a> followers that he was suffering from the <a class=\"\" href=\"https://www.mirror.co.uk/all-about/coronavirus-1\">associated illnesses</a> that come with the virus and hasn’t been seen on social media since.</p>,\n",
       " <p>Speaking out in his new! column magazine today, Peter set the record straight and said he and kids - Junior, Princess, Amelia and Theo - were now following the guidelines to self-isolate.</p>,\n",
       " <p>The dad also revealed that they were doing so away from Peter’s wife Emily, who is an NHS doctor.</p>,\n",
       " <p>Our full story is <a class=\"\" href=\"https://www.mirror.co.uk/3am/celebrity-news/peter-andre-says-son-juniors-21786407\">here. </a></p>,\n",
       " <p>Spain’s coronavirus cases today climbed by more than 9,000 - nearly three weeks after the country introduced drastic lockdown measures to curb the spread.</p>,\n",
       " <p>The number of cases rose to 94,417 on Tuesday from 85,195 on Monday, the country’s health ministry said.</p>,\n",
       " <p>Meanwhile, the death toll rose overnight by 849 to 8,189, the highest figure since the epidemic started.</p>,\n",
       " <p>The figures will be deeply worrying for Spanish authorities who would have hoped strict lockdown measures would have eased the outbreak by now.</p>,\n",
       " <p>To read more, click <a class=\"\" href=\"https://www.mirror.co.uk/news/world-news/coronavirus-cases-spain-soar-record-21786625\">here.</a></p>,\n",
       " <p>Virgin Media will be giving its TV customers access to seven children’s channels for free until 21 April.<strong><u><br/></u></strong></p>,\n",
       " <p>The broadcaster said it’s looking to help families who face uncertainty with schools closed until further notice.</p>,\n",
       " <p>This includes family favourites such as Cartoon Network, Boomerang, Cartoonito and Nickelodeon.</p>,\n",
       " <p>The full line up of extra channels for families to enjoy can be seen <a class=\"\" href=\"https://www.mirror.co.uk/money/virgin-media-giving-customers-access-21786683\">here. </a></p>,\n",
       " <p>A doctor who gave Russian President Vladimir Putin a tour of Moscow’s main coronavirus hospital last week has himself been diagnosed with the virus, the Rossiya 24 state TV channel reported on Tuesday. </p>,\n",
       " <p>Putin visited the Kommunarka hospital last Tuesday where he chatted to the doctor, Denis Protsenko. </p>,\n",
       " <p>Neither of them were wearing protective equipment during their conversation, TV footage from the visit showed. </p>,\n",
       " <p>The Kremlin said on Tuesday that Putin was being regularly tested for coronavirus and that “everything is okay,” the RIA news agency reported.</p>,\n",
       " <p>Speaking about the way his force would be dealing with the new Covid-19 legislation, the Chief Constable of Northamptonshire Police, Nick Adderley, said: “The men and women of this force are out there on the front line putting themselves in harm’s way to keep you safe, but I’ve been really clear with them.</p>,\n",
       " <p>“We will not be setting up roadblocks, we will not be stopping people in the street and asking for the purposes of their journey. </p>,\n",
       " <p>“We will be using this as an opportunity to engage, to educate, to inform, but if necessary, and if we have to impose the law, then we absolutely will. </p>,\n",
       " <p>“But I want to start off by saying we want to work with communities and with the public. </p>,\n",
       " <p>“Let’s get that message out that we are all in this together and the men and women that work for me are putting themselves in harm’s way. </p>,\n",
       " <p>“Please support us by following those rules. Please support us by doing the right thing. You are saving lives, you’re protecting the NHS and you’re saving us from having to do a more difficult task when we’ve already got a huge workload on in any case.”<br/></p>,\n",
       " <p>The number of people who have died in Wales after contracting coronavirus is 69, a rise of seven, health officials said. </p>,\n",
       " <p>Dr Giri Shankar, incident director for the Covid-19 outbreak response at Public Health Wales, said: “Seven further deaths have been reported to us of people who had tested positive for novel coronavirus, taking the number of deaths in Wales to 69. </p>,\n",
       " <p>“We offer our condolences to families and friends affected, and we ask those reporting on the situation to respect patient confidentiality.” <br/></p>,\n",
       " <p>Public Health Wales said there were 112 new confirmed cases of coronavirus, taking the total to 1,563, though it said the true number was likely to be higher. </p>,\n",
       " <p>The number of cases by health board are: </p>,\n",
       " <p>Aneurin Bevan has risen by 25 to 590 ; Betsi Cadwaladr has increased by five to 86; Cardiff and Vale has gone up by 31 to 375 ; Cwm Taf has seen a further 30 cases, rising to 189; Hywel Dda has gone up by seven to 94; Powys has seen one more case, rising to to 23; Swansea Bay has gone up by 10 to 167. </p>,\n",
       " <p>There is one further cases of a resident outside Wales and two cases are to be confirmed. <br/></p>]"
      ]
     },
     "execution_count": 8,
     "metadata": {},
     "output_type": "execute_result"
    }
   ],
   "source": [
    "body"
   ]
  },
  {
   "cell_type": "code",
   "execution_count": 9,
   "metadata": {},
   "outputs": [],
   "source": [
    "x = soup_article.find_all('p')"
   ]
  },
  {
   "cell_type": "code",
   "execution_count": 10,
   "metadata": {},
   "outputs": [
    {
     "data": {
      "text/plain": [
       "'A further 367 patients have died in England, Public Health England confirmed, while 13 more people have died of Covid-19 in Scotland, and seven more lost their lives in Wales'"
      ]
     },
     "execution_count": 10,
     "metadata": {},
     "output_type": "execute_result"
    }
   ],
   "source": [
    "\n",
    "x[0].get_text()"
   ]
  },
  {
   "cell_type": "code",
   "execution_count": 54,
   "metadata": {},
   "outputs": [],
   "source": [
    "number_of_articles = 19"
   ]
  },
  {
   "cell_type": "code",
   "execution_count": 55,
   "metadata": {},
   "outputs": [],
   "source": [
    "news_contents = []\n",
    "list_links = []\n",
    "list_titles = []\n",
    "\n",
    "for n in np.arange(0, number_of_articles):\n",
    "        \n",
    "   \n",
    "    \n",
    "    title = coverpage_news[n].get_text()\n",
    "    list_titles.append(title)\n",
    "    \n",
    "  \n",
    " \n",
    "        \n",
    "    "
   ]
  },
  {
   "cell_type": "code",
   "execution_count": 56,
   "metadata": {},
   "outputs": [],
   "source": [
    "\n",
    "df_show_info = pd.DataFrame(\n",
    "    {'Article Title': list_titles})"
   ]
  },
  {
   "cell_type": "code",
   "execution_count": 57,
   "metadata": {},
   "outputs": [
    {
     "data": {
      "text/html": [
       "<div>\n",
       "<style scoped>\n",
       "    .dataframe tbody tr th:only-of-type {\n",
       "        vertical-align: middle;\n",
       "    }\n",
       "\n",
       "    .dataframe tbody tr th {\n",
       "        vertical-align: top;\n",
       "    }\n",
       "\n",
       "    .dataframe thead th {\n",
       "        text-align: right;\n",
       "    }\n",
       "</style>\n",
       "<table border=\"1\" class=\"dataframe\">\n",
       "  <thead>\n",
       "    <tr style=\"text-align: right;\">\n",
       "      <th></th>\n",
       "      <th>Article Title</th>\n",
       "    </tr>\n",
       "  </thead>\n",
       "  <tbody>\n",
       "    <tr>\n",
       "      <td>0</td>\n",
       "      <td>UK death toll LEAPS by 393 more killed by coro...</td>\n",
       "    </tr>\n",
       "    <tr>\n",
       "      <td>1</td>\n",
       "      <td>Family-of-four including two young daughters p...</td>\n",
       "    </tr>\n",
       "    <tr>\n",
       "      <td>2</td>\n",
       "      <td>Highs and lows of Prince Harry's royal life - ...</td>\n",
       "    </tr>\n",
       "    <tr>\n",
       "      <td>3</td>\n",
       "      <td>Neighbour caught heading out during coronaviru...</td>\n",
       "    </tr>\n",
       "    <tr>\n",
       "      <td>4</td>\n",
       "      <td>All the celebs battling coronavirus from pop s...</td>\n",
       "    </tr>\n",
       "    <tr>\n",
       "      <td>5</td>\n",
       "      <td>Celebs slammed for plugging products and flaun...</td>\n",
       "    </tr>\n",
       "    <tr>\n",
       "      <td>6</td>\n",
       "      <td>Top cop warns police against 'overzealous' enf...</td>\n",
       "    </tr>\n",
       "    <tr>\n",
       "      <td>7</td>\n",
       "      <td>Tiger King fans dress up as Joe Exotic in Inst...</td>\n",
       "    </tr>\n",
       "    <tr>\n",
       "      <td>8</td>\n",
       "      <td>Meghan Markle and Prince Harry officially quit...</td>\n",
       "    </tr>\n",
       "    <tr>\n",
       "      <td>9</td>\n",
       "      <td>Inside David and Victoria Beckham's '£20millio...</td>\n",
       "    </tr>\n",
       "    <tr>\n",
       "      <td>10</td>\n",
       "      <td>Tiger King stars Joe Exotic, Doc Antle and Car...</td>\n",
       "    </tr>\n",
       "    <tr>\n",
       "      <td>11</td>\n",
       "      <td>How Hollywood celebs are coping with homeschoo...</td>\n",
       "    </tr>\n",
       "    <tr>\n",
       "      <td>12</td>\n",
       "      <td>Oregon's Painted Hills where rocks change colo...</td>\n",
       "    </tr>\n",
       "    <tr>\n",
       "      <td>13</td>\n",
       "      <td>Man Utd eye Matthijs de Ligt transfer swoop du...</td>\n",
       "    </tr>\n",
       "    <tr>\n",
       "      <td>14</td>\n",
       "      <td>Where is Noughts and Crosses filmed? The real-...</td>\n",
       "    </tr>\n",
       "    <tr>\n",
       "      <td>15</td>\n",
       "      <td>New Look offer 25% off everything online - but...</td>\n",
       "    </tr>\n",
       "    <tr>\n",
       "      <td>16</td>\n",
       "      <td>Funerals during coronavirus have strict rules ...</td>\n",
       "    </tr>\n",
       "    <tr>\n",
       "      <td>17</td>\n",
       "      <td>Haunting photos of family on coronavirus lockd...</td>\n",
       "    </tr>\n",
       "    <tr>\n",
       "      <td>18</td>\n",
       "      <td>Funerals during coronavirus have strict rules ...</td>\n",
       "    </tr>\n",
       "  </tbody>\n",
       "</table>\n",
       "</div>"
      ],
      "text/plain": [
       "                                        Article Title\n",
       "0   UK death toll LEAPS by 393 more killed by coro...\n",
       "1   Family-of-four including two young daughters p...\n",
       "2   Highs and lows of Prince Harry's royal life - ...\n",
       "3   Neighbour caught heading out during coronaviru...\n",
       "4   All the celebs battling coronavirus from pop s...\n",
       "5   Celebs slammed for plugging products and flaun...\n",
       "6   Top cop warns police against 'overzealous' enf...\n",
       "7   Tiger King fans dress up as Joe Exotic in Inst...\n",
       "8   Meghan Markle and Prince Harry officially quit...\n",
       "9   Inside David and Victoria Beckham's '£20millio...\n",
       "10  Tiger King stars Joe Exotic, Doc Antle and Car...\n",
       "11  How Hollywood celebs are coping with homeschoo...\n",
       "12  Oregon's Painted Hills where rocks change colo...\n",
       "13  Man Utd eye Matthijs de Ligt transfer swoop du...\n",
       "14  Where is Noughts and Crosses filmed? The real-...\n",
       "15  New Look offer 25% off everything online - but...\n",
       "16  Funerals during coronavirus have strict rules ...\n",
       "17  Haunting photos of family on coronavirus lockd...\n",
       "18  Funerals during coronavirus have strict rules ..."
      ]
     },
     "execution_count": 57,
     "metadata": {},
     "output_type": "execute_result"
    }
   ],
   "source": [
    "df_show_info"
   ]
  },
  {
   "cell_type": "code",
   "execution_count": 58,
   "metadata": {},
   "outputs": [],
   "source": [
    "df_show_info.to_csv('d3.csv')"
   ]
  },
  {
   "cell_type": "code",
   "execution_count": null,
   "metadata": {},
   "outputs": [],
   "source": []
  }
 ],
 "metadata": {
  "kernelspec": {
   "display_name": "Python 3",
   "language": "python",
   "name": "python3"
  },
  "language_info": {
   "codemirror_mode": {
    "name": "ipython",
    "version": 3
   },
   "file_extension": ".py",
   "mimetype": "text/x-python",
   "name": "python",
   "nbconvert_exporter": "python",
   "pygments_lexer": "ipython3",
   "version": "3.7.4"
  }
 },
 "nbformat": 4,
 "nbformat_minor": 2
}
